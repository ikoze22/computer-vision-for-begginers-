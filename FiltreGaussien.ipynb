{
 "cells": [
  {
   "cell_type": "code",
   "execution_count": 1,
   "id": "656e66eb",
   "metadata": {},
   "outputs": [],
   "source": [
    " # import computer vision library(cv2) in this code\n",
    "import cv2"
   ]
  },
  {
   "cell_type": "code",
   "execution_count": null,
   "id": "afe992e5",
   "metadata": {},
   "outputs": [],
   "source": [
    "img_path = \"im1.jpg\"\n",
    "image_c = cv2.imread(img_path)\n",
    "image = cv2.cvtColor(image_c,cv2.COLOR_BGR2GRAY)\n",
    "#image=image_c\n",
    "\n",
    "# mentioning absolute path of the image\n",
    "#cv2.GaussianBlur(src, ksize, sigmaX, sigmaY, borderType)\n",
    "#borderType: This specify boundaries of an image while kernel is applied on borders of an image.\n",
    "# cv2.BORDER_DEFAULT: gfedcb|abcdefgh|gfedcba\n",
    "\n",
    "#blur_img = cv2.GaussianBlur(image,(3,3),6.0,0, cv2.BORDER_DEFAULT)\n",
    " \n",
    "    # show the image on the newly created image window\n",
    "\t#cv2.imshow('Blur image',blur_img)\n",
    "#cv2.imwrite(\"blur_imag.png\", blur_img)\n",
    "#cv2.waitKey(0)"
   ]
  },
  {
   "cell_type": "code",
   "execution_count": null,
   "id": "11ab0a2c",
   "metadata": {},
   "outputs": [],
   "source": [
    "n=69\n",
    "for i in range (n):\n",
    "    blur_img = cv2.GaussianBlur(image,(3,3),6.0,0, cv2.BORDER_DEFAULT)\n",
    "cv2.imshow(\"blur_imag.png\", blur_img)\n",
    "cv2.waitKey(0)\n",
    "cv2.destroyAllWindows()\n",
    "    "
   ]
  },
  {
   "cell_type": "code",
   "execution_count": 5,
   "id": "799677e7",
   "metadata": {},
   "outputs": [],
   "source": [
    "import numpy as np \n",
    "def gauss_sigma(img,sigma):\n",
    "    img=cv2.GaussianBlur(image,(3,3),sigma,0, cv2.BORDER_DEFAULT)\n",
    "    return img\n",
    "img_1 = gauss_sigma(image,6)\n",
    "img_1 = gauss_sigma(img_1,2)\n",
    "\n",
    "img_2 = gauss_sigma(image,12)\n",
    "\n",
    "cv2.imshow(\"img_1\", img_1)\n",
    "cv2.imshow(\"img_2\", img_2)\n",
    "d = np.where(img_1-img_2<0,0,img_1-img_2)\n",
    "cv2.imshow(\"d\", d)\n",
    "cv2.waitKey(0)\n",
    "cv2.destroyAllWindows()\n"
   ]
  },
  {
   "cell_type": "code",
   "execution_count": null,
   "id": "173b6484",
   "metadata": {},
   "outputs": [],
   "source": []
  }
 ],
 "metadata": {
  "kernelspec": {
   "display_name": "Python 3",
   "language": "python",
   "name": "python3"
  },
  "language_info": {
   "codemirror_mode": {
    "name": "ipython",
    "version": 3
   },
   "file_extension": ".py",
   "mimetype": "text/x-python",
   "name": "python",
   "nbconvert_exporter": "python",
   "pygments_lexer": "ipython3",
   "version": "3.8.3"
  }
 },
 "nbformat": 4,
 "nbformat_minor": 5
}
